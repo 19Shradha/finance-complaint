{
 "cells": [
  {
   "cell_type": "code",
   "execution_count": 3,
   "id": "4a0872e1-677e-4545-93aa-fb5cf4f90c5a",
   "metadata": {},
   "outputs": [
    {
     "name": "stdout",
     "output_type": "stream",
     "text": [
      "5 is grestest\n"
     ]
    }
   ],
   "source": [
    "a,b,c=3,4,5\n",
    "\n",
    "if a>b:\n",
    "    if a>c:\n",
    "        print(f\"{a} is gretest.\")\n",
    "    else:\n",
    "        print(f\"{c} is grestest\")\n",
    "else:\n",
    "    if b>c:\n",
    "        print(f\"{b} is gretest.\")\n",
    "    else:\n",
    "        print(f\"{c} is grestest\")\n",
    "\n",
    "    "
   ]
  },
  {
   "cell_type": "code",
   "execution_count": null,
   "id": "2f3828f6-a8d6-44d5-8f85-94f55a687dca",
   "metadata": {},
   "outputs": [],
   "source": []
  }
 ],
 "metadata": {
  "kernelspec": {
   "display_name": "Python 3 (ipykernel)",
   "language": "python",
   "name": "python3"
  },
  "language_info": {
   "codemirror_mode": {
    "name": "ipython",
    "version": 3
   },
   "file_extension": ".py",
   "mimetype": "text/x-python",
   "name": "python",
   "nbconvert_exporter": "python",
   "pygments_lexer": "ipython3",
   "version": "3.9.7"
  }
 },
 "nbformat": 4,
 "nbformat_minor": 5
}
