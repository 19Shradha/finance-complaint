{
 "cells": [
  {
   "cell_type": "code",
   "execution_count": 1,
   "id": "987cf243-1310-498b-9223-a53838423c80",
   "metadata": {},
   "outputs": [],
   "source": [
    "fp=\"finance_artifact/data_ingestion/feature_store/finance_complaint\""
   ]
  },
  {
   "cell_type": "code",
   "execution_count": 2,
   "id": "9c0f67ed-7953-40ec-b2fb-ac002e356ce0",
   "metadata": {},
   "outputs": [],
   "source": [
    "from finance_complaint.config.spark_manager import spark_session"
   ]
  },
  {
   "cell_type": "code",
   "execution_count": 15,
   "id": "30a40570-2762-457d-ad4a-0e2ad61ea052",
   "metadata": {},
   "outputs": [],
   "source": [
    "df=spark_session.read.parquet(fp)"
   ]
  },
  {
   "cell_type": "code",
   "execution_count": 4,
   "id": "501fad6b-d891-4bb5-a4c8-3bd6668cc440",
   "metadata": {},
   "outputs": [],
   "source": [
    "from finance_complaint.entity.estimator import S3FinanceEstimator"
   ]
  },
  {
   "cell_type": "code",
   "execution_count": 8,
   "id": "60cffad4-a366-43a1-a64c-e9c031f35b64",
   "metadata": {},
   "outputs": [],
   "source": [
    "from finance_complaint.constant import S3_MODEL_BUCKET_NAME,S3_MODEL_DIR_KEY"
   ]
  },
  {
   "cell_type": "code",
   "execution_count": 10,
   "id": "57ffdddc-e304-45d1-937d-838efdf191ee",
   "metadata": {},
   "outputs": [
    {
     "name": "stdout",
     "output_type": "stream",
     "text": [
      "Existing buckets:\n"
     ]
    }
   ],
   "source": [
    "model = S3FinanceEstimator(bucket_name=S3_MODEL_BUCKET_NAME,s3_key=S3_MODEL_DIR_KEY)"
   ]
  },
  {
   "cell_type": "code",
   "execution_count": 11,
   "id": "74d1498b-c658-4545-a77d-c471c784af89",
   "metadata": {},
   "outputs": [
    {
     "name": "stdout",
     "output_type": "stream",
     "text": [
      "{'inputCols': None, 'outputCols': None}\n"
     ]
    }
   ],
   "source": [
    "df=model.transform(df)"
   ]
  },
  {
   "cell_type": "code",
   "execution_count": 12,
   "id": "83e1d700-e028-4086-aea2-b67853b616a9",
   "metadata": {},
   "outputs": [
    {
     "data": {
      "text/plain": [
       "2965757"
      ]
     },
     "execution_count": 12,
     "metadata": {},
     "output_type": "execute_result"
    }
   ],
   "source": [
    "df.count()"
   ]
  },
  {
   "cell_type": "code",
   "execution_count": 14,
   "id": "507ab1e8-2af6-47b0-9aa0-7246510d88ad",
   "metadata": {},
   "outputs": [
    {
     "name": "stderr",
     "output_type": "stream",
     "text": [
      "                                                                                \r"
     ]
    }
   ],
   "source": [
    "df.write.parquet(\"tmp/prediction\")"
   ]
  },
  {
   "cell_type": "code",
   "execution_count": null,
   "id": "1cd68bf6-6f71-4982-aaf4-5796ca9b6a97",
   "metadata": {},
   "outputs": [],
   "source": [
    "df.write.parquet(\"s3\")"
   ]
  }
 ],
 "metadata": {
  "kernelspec": {
   "display_name": "Python 3 (ipykernel)",
   "language": "python",
   "name": "python3"
  },
  "language_info": {
   "codemirror_mode": {
    "name": "ipython",
    "version": 3
   },
   "file_extension": ".py",
   "mimetype": "text/x-python",
   "name": "python",
   "nbconvert_exporter": "python",
   "pygments_lexer": "ipython3",
   "version": "3.8.0"
  }
 },
 "nbformat": 4,
 "nbformat_minor": 5
}
