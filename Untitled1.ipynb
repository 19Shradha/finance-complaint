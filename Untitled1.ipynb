{
 "cells": [
  {
   "cell_type": "code",
   "execution_count": 25,
   "id": "e951fa51-f8a2-4cc7-b8d1-7fef4dfe56fa",
   "metadata": {},
   "outputs": [],
   "source": [
    "file_path=\"finance_artifact/data_transformation/20220910_111035/transformed_data/finance_complaint\""
   ]
  },
  {
   "cell_type": "code",
   "execution_count": 6,
   "id": "ac9f85c8-7f3d-4f86-81e8-3e2fd25e71f3",
   "metadata": {},
   "outputs": [],
   "source": [
    "from finance_complaint.entity.spark_manager import spark_session"
   ]
  },
  {
   "cell_type": "code",
   "execution_count": 27,
   "id": "c5f58cac-8ab2-460e-974a-638e6f6888c4",
   "metadata": {},
   "outputs": [],
   "source": [
    "data=[\n",
    "    (1,2),\n",
    "    (1,3),\n",
    "]"
   ]
  },
  {
   "cell_type": "code",
   "execution_count": 28,
   "id": "8cdfdc73-4814-4546-94f9-d3a8331e3ab4",
   "metadata": {},
   "outputs": [
    {
     "name": "stdout",
     "output_type": "stream",
     "text": [
      "+---+---+\n",
      "| _1| _2|\n",
      "+---+---+\n",
      "|  1|  2|\n",
      "|  1|  3|\n",
      "+---+---+\n",
      "\n"
     ]
    }
   ],
   "source": [
    "spark_session.createDataFrame(data).show()"
   ]
  },
  {
   "cell_type": "code",
   "execution_count": 29,
   "id": "d5f6b760-81e2-482f-b6ce-090da174522d",
   "metadata": {},
   "outputs": [],
   "source": [
    "df = spark_session.read.parquet(file_path)"
   ]
  },
  {
   "cell_type": "code",
   "execution_count": 31,
   "id": "ff6f454d-8554-4416-8632-85cc2a5f574d",
   "metadata": {},
   "outputs": [],
   "source": [
    "f = df.groupby('company').count()"
   ]
  },
  {
   "cell_type": "code",
   "execution_count": 35,
   "id": "0a1c89f9-6d1b-4dea-9d5a-4b7b094fea4e",
   "metadata": {},
   "outputs": [],
   "source": [
    "data=f.collect()"
   ]
  },
  {
   "cell_type": "code",
   "execution_count": 38,
   "id": "46563777-278b-48d1-929d-b19ce0c32728",
   "metadata": {},
   "outputs": [
    {
     "data": {
      "text/plain": [
       "DataFrame[company: string, count: bigint]"
      ]
     },
     "execution_count": 38,
     "metadata": {},
     "output_type": "execute_result"
    }
   ],
   "source": [
    "spark_session.createDataFrame(data)"
   ]
  },
  {
   "cell_type": "code",
   "execution_count": 1,
   "id": "6e697e0a-84d5-4253-a228-c619f4e0e322",
   "metadata": {},
   "outputs": [],
   "source": [
    "fp = \"finance_artifact/data_transformation/20220910_122057/pipeline\""
   ]
  },
  {
   "cell_type": "code",
   "execution_count": 2,
   "id": "5ed60559-098a-44c2-8239-e32072327716",
   "metadata": {},
   "outputs": [],
   "source": [
    "from pyspark.ml.pipeline import PipelineModel"
   ]
  },
  {
   "cell_type": "code",
   "execution_count": 3,
   "id": "adf4ba2a-4b14-4c26-aa2a-f81b5c485bdb",
   "metadata": {},
   "outputs": [
    {
     "name": "stderr",
     "output_type": "stream",
     "text": [
      "22/09/10 12:22:25 WARN Utils: Your hostname, avnish-yadav resolves to a loopback address: 127.0.1.1; using 192.168.1.42 instead (on interface wlo1)\n",
      "22/09/10 12:22:25 WARN Utils: Set SPARK_LOCAL_IP if you need to bind to another address\n",
      "Using Spark's default log4j profile: org/apache/spark/log4j-defaults.properties\n",
      "Setting default log level to \"WARN\".\n",
      "To adjust logging level use sc.setLogLevel(newLevel). For SparkR, use setLogLevel(newLevel).\n",
      "22/09/10 12:22:26 WARN NativeCodeLoader: Unable to load native-hadoop library for your platform... using builtin-java classes where applicable\n",
      "                                                                                \r"
     ]
    },
    {
     "name": "stdout",
     "output_type": "stream",
     "text": [
      "{'inputCols': None, 'outputCols': None}\n"
     ]
    }
   ],
   "source": [
    "model = PipelineModel.load(fp)"
   ]
  },
  {
   "cell_type": "code",
   "execution_count": null,
   "id": "37b19cba-6a5c-4780-823b-c5ebe143037d",
   "metadata": {},
   "outputs": [],
   "source": []
  },
  {
   "cell_type": "code",
   "execution_count": 4,
   "id": "e27b0dd8-e5c7-44de-bac1-f51c78c6a071",
   "metadata": {},
   "outputs": [],
   "source": [
    "f=\"finance_artifact/data_validation/20220910_122057/accepted_data/finance_complaint\""
   ]
  },
  {
   "cell_type": "code",
   "execution_count": 7,
   "id": "c2749c56-1ae5-465f-bd77-31e3148b152d",
   "metadata": {},
   "outputs": [],
   "source": [
    "df= spark_session.read.parquet(f)"
   ]
  },
  {
   "cell_type": "code",
   "execution_count": 8,
   "id": "e351cfea-b5cd-4b76-b52a-0b5bd08e9dbf",
   "metadata": {},
   "outputs": [
    {
     "name": "stdout",
     "output_type": "stream",
     "text": [
      "root\n",
      " |-- company: string (nullable = true)\n",
      " |-- company_response: string (nullable = true)\n",
      " |-- consumer_consent_provided: string (nullable = true)\n",
      " |-- consumer_disputed: string (nullable = true)\n",
      " |-- date_received: string (nullable = true)\n",
      " |-- date_sent_to_company: string (nullable = true)\n",
      " |-- issue: string (nullable = true)\n",
      " |-- product: string (nullable = true)\n",
      " |-- state: string (nullable = true)\n",
      " |-- submitted_via: string (nullable = true)\n",
      " |-- timely: string (nullable = true)\n",
      " |-- zip_code: string (nullable = true)\n",
      "\n"
     ]
    }
   ],
   "source": [
    "df.printSchema()"
   ]
  },
  {
   "cell_type": "code",
   "execution_count": 10,
   "id": "40bf9ba8-653a-479b-b0d6-38692e036abf",
   "metadata": {},
   "outputs": [
    {
     "name": "stdout",
     "output_type": "stream",
     "text": [
      "Input columns: ['im_company', 'im_issue', 'im_product', 'im_state', 'im_zip_code']\n",
      "Output columns: ['tf_company', 'tf_issue', 'tf_product', 'tf_state', 'tf_zip_code']\n"
     ]
    }
   ],
   "source": [
    "df=model.transform(df)"
   ]
  },
  {
   "cell_type": "code",
   "execution_count": 11,
   "id": "026cbdc4-cb89-49ae-adb9-923105677a0d",
   "metadata": {},
   "outputs": [
    {
     "name": "stdout",
     "output_type": "stream",
     "text": [
      "root\n",
      " |-- company: string (nullable = true)\n",
      " |-- company_response: string (nullable = true)\n",
      " |-- consumer_consent_provided: string (nullable = true)\n",
      " |-- consumer_disputed: string (nullable = true)\n",
      " |-- date_received: timestamp (nullable = true)\n",
      " |-- date_sent_to_company: timestamp (nullable = true)\n",
      " |-- issue: string (nullable = true)\n",
      " |-- product: string (nullable = true)\n",
      " |-- state: string (nullable = true)\n",
      " |-- submitted_via: string (nullable = true)\n",
      " |-- timely: string (nullable = true)\n",
      " |-- zip_code: string (nullable = true)\n",
      " |-- diff_in_days: double (nullable = true)\n",
      " |-- im_diff_in_days: double (nullable = true)\n",
      " |-- im_company_response: string (nullable = false)\n",
      " |-- im_consumer_consent_provided: string (nullable = false)\n",
      " |-- im_submitted_via: string (nullable = false)\n",
      " |-- im_timely: string (nullable = false)\n",
      " |-- im_company: string (nullable = false)\n",
      " |-- im_issue: string (nullable = false)\n",
      " |-- im_product: string (nullable = false)\n",
      " |-- im_state: string (nullable = false)\n",
      " |-- im_zip_code: string (nullable = false)\n",
      " |-- si_company_response: double (nullable = false)\n",
      " |-- si_consumer_consent_provided: double (nullable = false)\n",
      " |-- si_submitted_via: double (nullable = false)\n",
      " |-- si_timely: double (nullable = false)\n",
      " |-- tf_company_response: vector (nullable = true)\n",
      " |-- tf_consumer_consent_provided: vector (nullable = true)\n",
      " |-- tf_submitted_via: vector (nullable = true)\n",
      " |-- tf_timely: vector (nullable = true)\n",
      " |-- tf_company: long (nullable = true)\n",
      " |-- tf_issue: long (nullable = true)\n",
      " |-- tf_product: long (nullable = true)\n",
      " |-- tf_state: long (nullable = true)\n",
      " |-- tf_zip_code: long (nullable = true)\n",
      " |-- va_input_features: vector (nullable = true)\n",
      " |-- scaled_input_features: vector (nullable = true)\n",
      "\n"
     ]
    }
   ],
   "source": [
    "df.printSchema()"
   ]
  },
  {
   "cell_type": "code",
   "execution_count": 12,
   "id": "a087b61b-a138-411d-abe5-f2495a84993c",
   "metadata": {},
   "outputs": [
    {
     "name": "stderr",
     "output_type": "stream",
     "text": [
      "22/09/10 12:23:29 WARN MemoryStore: Not enough space to cache broadcast_80 in memory! (computed 472.0 MiB so far)\n",
      "22/09/10 12:23:29 WARN BlockManager: Persisting block broadcast_80 to disk instead.\n",
      "22/09/10 12:23:31 WARN MemoryStore: Not enough space to cache broadcast_80 in memory! (computed 440.3 MiB so far)\n",
      "[Stage 49:===========================================>              (6 + 2) / 8]\r"
     ]
    },
    {
     "name": "stdout",
     "output_type": "stream",
     "text": [
      "+---------------------+\n",
      "|scaled_input_features|\n",
      "+---------------------+\n",
      "| (22,[0,6,11,15,16...|\n",
      "| (22,[0,6,11,15,16...|\n",
      "| (22,[1,6,11,16,17...|\n",
      "| (22,[0,6,12,15,16...|\n",
      "| (22,[0,6,13,15,16...|\n",
      "| (22,[0,6,12,15,16...|\n",
      "| (22,[0,7,10,15,16...|\n",
      "| (22,[0,7,10,15,16...|\n",
      "| (22,[0,6,12,15,16...|\n",
      "| (22,[0,7,10,15,16...|\n",
      "| (22,[0,8,10,15,16...|\n",
      "| (22,[0,6,11,15,16...|\n",
      "| (22,[0,7,10,15,16...|\n",
      "| (22,[0,7,10,15,16...|\n",
      "| (22,[0,7,10,15,16...|\n",
      "| (22,[0,6,13,15,16...|\n",
      "| (22,[0,7,10,15,16...|\n",
      "| (22,[0,6,10,15,16...|\n",
      "| (22,[0,6,10,15,16...|\n",
      "| (22,[0,6,10,15,16...|\n",
      "+---------------------+\n",
      "only showing top 20 rows\n",
      "\n"
     ]
    },
    {
     "name": "stderr",
     "output_type": "stream",
     "text": [
      "                                                                                \r"
     ]
    }
   ],
   "source": [
    "df.select('scaled_input_features').show()"
   ]
  },
  {
   "cell_type": "code",
   "execution_count": 16,
   "id": "f5fe9aa4-23f3-4a32-a4c8-7c25106e8736",
   "metadata": {},
   "outputs": [],
   "source": [
    "df=df.select(['scaled_input_features','consumer_disputed'])"
   ]
  },
  {
   "cell_type": "code",
   "execution_count": 18,
   "id": "c041a7cd-69fa-44d5-bf18-1be7b6ce07fc",
   "metadata": {},
   "outputs": [],
   "source": [
    "df=df.replace({\"Yes\":\"1\",\"No\":\"0\"})"
   ]
  },
  {
   "cell_type": "code",
   "execution_count": 24,
   "id": "086c62ab-6dbe-4a17-890c-1ba1675497dd",
   "metadata": {},
   "outputs": [],
   "source": [
    "from pyspark.sql.functions import col\n",
    "from pyspark.sql.types import IntegerType"
   ]
  },
  {
   "cell_type": "code",
   "execution_count": 27,
   "id": "c3771f60-abce-4eb7-98d0-37444babf185",
   "metadata": {},
   "outputs": [],
   "source": [
    "df=df.withColumn(\"consumer_disputed\",col(\"consumer_disputed\").cast(IntegerType()))"
   ]
  },
  {
   "cell_type": "code",
   "execution_count": 28,
   "id": "c88e115a-2f2e-4672-b755-d2423cc28bc7",
   "metadata": {},
   "outputs": [
    {
     "name": "stdout",
     "output_type": "stream",
     "text": [
      "root\n",
      " |-- scaled_input_features: vector (nullable = true)\n",
      " |-- consumer_disputed: integer (nullable = true)\n",
      "\n"
     ]
    }
   ],
   "source": [
    "df.printSchema()"
   ]
  },
  {
   "cell_type": "code",
   "execution_count": 29,
   "id": "869fe559-df6b-47e1-93a7-09904d0a0e04",
   "metadata": {},
   "outputs": [],
   "source": [
    "train_df,test_df = df.randomSplit([0.8,0.2])"
   ]
  },
  {
   "cell_type": "code",
   "execution_count": 30,
   "id": "baf31368-5623-4eae-9de2-ad143690a31f",
   "metadata": {},
   "outputs": [
    {
     "name": "stderr",
     "output_type": "stream",
     "text": [
      "22/09/10 12:39:52 WARN MemoryStore: Not enough space to cache broadcast_140 in memory! (computed 484.0 MiB so far)\n",
      "22/09/10 12:39:52 WARN BlockManager: Persisting block broadcast_140 to disk instead.\n",
      "22/09/10 12:39:53 WARN MemoryStore: Not enough space to cache broadcast_140 in memory! (computed 452.3 MiB so far)\n",
      "                                                                                \r"
     ]
    },
    {
     "data": {
      "text/plain": [
       "619131"
      ]
     },
     "execution_count": 30,
     "metadata": {},
     "output_type": "execute_result"
    }
   ],
   "source": [
    "train_df.count()"
   ]
  },
  {
   "cell_type": "code",
   "execution_count": 31,
   "id": "bbee9f18-5906-4612-8303-0bfb9c040d81",
   "metadata": {},
   "outputs": [
    {
     "name": "stderr",
     "output_type": "stream",
     "text": [
      "22/09/10 12:40:01 WARN MemoryStore: Not enough space to cache broadcast_156 in memory! (computed 484.0 MiB so far)\n",
      "22/09/10 12:40:01 WARN BlockManager: Persisting block broadcast_156 to disk instead.\n",
      "22/09/10 12:40:03 WARN MemoryStore: Not enough space to cache broadcast_156 in memory! (computed 452.3 MiB so far)\n",
      "                                                                                \r"
     ]
    },
    {
     "data": {
      "text/plain": [
       "155429"
      ]
     },
     "execution_count": 31,
     "metadata": {},
     "output_type": "execute_result"
    }
   ],
   "source": [
    "test_df.count()"
   ]
  },
  {
   "cell_type": "code",
   "execution_count": 32,
   "id": "6daba904-b64b-4c96-8cd4-b65e3801a2b2",
   "metadata": {},
   "outputs": [],
   "source": [
    "def update_attr(df):\n",
    "    for col in df.columns:\n",
    "        setattr(df,col,col)"
   ]
  },
  {
   "cell_type": "code",
   "execution_count": 37,
   "id": "2013fa54-c01c-4bb3-bdbf-f343bb5e3870",
   "metadata": {},
   "outputs": [],
   "source": [
    "update_attr(train_df)"
   ]
  },
  {
   "cell_type": "code",
   "execution_count": 38,
   "id": "5e647070-19f3-42fb-be19-b40dcd104ffd",
   "metadata": {},
   "outputs": [
    {
     "name": "stderr",
     "output_type": "stream",
     "text": [
      "22/09/10 12:41:43 WARN MemoryStore: Not enough space to cache broadcast_188 in memory! (computed 484.0 MiB so far)\n",
      "22/09/10 12:41:43 WARN BlockManager: Persisting block broadcast_188 to disk instead.\n",
      "22/09/10 12:41:45 WARN MemoryStore: Not enough space to cache broadcast_188 in memory! (computed 452.3 MiB so far)\n",
      "22/09/10 12:41:46 WARN RowBasedKeyValueBatch: Calling spill() on RowBasedKeyValueBatch. Will not spill but return 0.\n",
      "22/09/10 12:41:46 WARN RowBasedKeyValueBatch: Calling spill() on RowBasedKeyValueBatch. Will not spill but return 0.\n",
      "22/09/10 12:41:46 WARN RowBasedKeyValueBatch: Calling spill() on RowBasedKeyValueBatch. Will not spill but return 0.\n",
      "22/09/10 12:41:47 WARN RowBasedKeyValueBatch: Calling spill() on RowBasedKeyValueBatch. Will not spill but return 0.\n",
      "22/09/10 12:41:47 WARN RowBasedKeyValueBatch: Calling spill() on RowBasedKeyValueBatch. Will not spill but return 0.\n",
      "22/09/10 12:41:47 WARN RowBasedKeyValueBatch: Calling spill() on RowBasedKeyValueBatch. Will not spill but return 0.\n",
      "22/09/10 12:41:47 WARN RowBasedKeyValueBatch: Calling spill() on RowBasedKeyValueBatch. Will not spill but return 0.\n",
      "22/09/10 12:41:47 WARN RowBasedKeyValueBatch: Calling spill() on RowBasedKeyValueBatch. Will not spill but return 0.\n",
      "22/09/10 12:41:47 WARN RowBasedKeyValueBatch: Calling spill() on RowBasedKeyValueBatch. Will not spill but return 0.\n",
      "[Stage 169:================================================>        (6 + 1) / 7]\r"
     ]
    },
    {
     "name": "stdout",
     "output_type": "stream",
     "text": [
      "+-----------------+------+\n",
      "|consumer_disputed| count|\n",
      "+-----------------+------+\n",
      "|                1|119388|\n",
      "|                0|499743|\n",
      "+-----------------+------+\n",
      "\n"
     ]
    },
    {
     "name": "stderr",
     "output_type": "stream",
     "text": [
      "                                                                                \r"
     ]
    }
   ],
   "source": [
    "train_df.groupby(df.consumer_disputed).count().show()"
   ]
  },
  {
   "cell_type": "code",
   "execution_count": 39,
   "id": "7de5500a-b923-424a-a1e3-c90b3fcba568",
   "metadata": {},
   "outputs": [
    {
     "name": "stderr",
     "output_type": "stream",
     "text": [
      "22/09/10 12:42:08 WARN MemoryStore: Not enough space to cache broadcast_204 in memory! (computed 484.0 MiB so far)\n",
      "22/09/10 12:42:08 WARN BlockManager: Persisting block broadcast_204 to disk instead.\n",
      "22/09/10 12:42:09 WARN MemoryStore: Not enough space to cache broadcast_204 in memory! (computed 452.3 MiB so far)\n",
      "22/09/10 12:42:11 WARN RowBasedKeyValueBatch: Calling spill() on RowBasedKeyValueBatch. Will not spill but return 0.\n",
      "22/09/10 12:42:11 WARN RowBasedKeyValueBatch: Calling spill() on RowBasedKeyValueBatch. Will not spill but return 0.\n",
      "22/09/10 12:42:11 WARN RowBasedKeyValueBatch: Calling spill() on RowBasedKeyValueBatch. Will not spill but return 0.\n",
      "22/09/10 12:42:11 WARN RowBasedKeyValueBatch: Calling spill() on RowBasedKeyValueBatch. Will not spill but return 0.\n",
      "22/09/10 12:42:11 WARN RowBasedKeyValueBatch: Calling spill() on RowBasedKeyValueBatch. Will not spill but return 0.\n",
      "22/09/10 12:42:11 WARN RowBasedKeyValueBatch: Calling spill() on RowBasedKeyValueBatch. Will not spill but return 0.\n",
      "22/09/10 12:42:11 WARN RowBasedKeyValueBatch: Calling spill() on RowBasedKeyValueBatch. Will not spill but return 0.\n",
      "22/09/10 12:42:11 WARN RowBasedKeyValueBatch: Calling spill() on RowBasedKeyValueBatch. Will not spill but return 0.\n",
      "22/09/10 12:42:11 WARN RowBasedKeyValueBatch: Calling spill() on RowBasedKeyValueBatch. Will not spill but return 0.\n",
      "[Stage 188:================================================>        (6 + 1) / 7]\r"
     ]
    },
    {
     "name": "stdout",
     "output_type": "stream",
     "text": [
      "+-----------------+------+\n",
      "|consumer_disputed| count|\n",
      "+-----------------+------+\n",
      "|                1| 30016|\n",
      "|                0|125413|\n",
      "+-----------------+------+\n",
      "\n"
     ]
    },
    {
     "name": "stderr",
     "output_type": "stream",
     "text": [
      "                                                                                \r"
     ]
    }
   ],
   "source": [
    "test_df.groupby(df.consumer_disputed).count().show()"
   ]
  },
  {
   "cell_type": "code",
   "execution_count": 40,
   "id": "27bddd6c-2ce4-4b1e-8e8c-f535d1e71b91",
   "metadata": {},
   "outputs": [
    {
     "name": "stderr",
     "output_type": "stream",
     "text": [
      "/home/avnish/iNeuron_Private_Intelligence_Limited/industry_ready_project/env/venv/lib/python3.8/site-packages/petastorm/spark/spark_dataset_converter.py:28: FutureWarning: pyarrow.LocalFileSystem is deprecated as of 2.0.0, please use pyarrow.fs.LocalFileSystem instead.\n",
      "  from pyarrow import LocalFileSystem\n"
     ]
    }
   ],
   "source": [
    "from petastorm.spark import SparkDatasetConverter, make_spark_converter\n"
   ]
  },
  {
   "cell_type": "code",
   "execution_count": 43,
   "id": "1e7223ec-da79-45ec-bbca-5ce5f619a8ab",
   "metadata": {},
   "outputs": [
    {
     "data": {
      "text/html": [
       "\n",
       "        <div>\n",
       "            <p><b>SparkContext</b></p>\n",
       "\n",
       "            <p><a href=\"http://mongoexpress.com:4040\">Spark UI</a></p>\n",
       "\n",
       "            <dl>\n",
       "              <dt>Version</dt>\n",
       "                <dd><code>v3.2.1</code></dd>\n",
       "              <dt>Master</dt>\n",
       "                <dd><code>local[*]</code></dd>\n",
       "              <dt>AppName</dt>\n",
       "                <dd><code>pyspark-shell</code></dd>\n",
       "            </dl>\n",
       "        </div>\n",
       "        "
      ],
      "text/plain": [
       "<SparkContext master=local[*] appName=pyspark-shell>"
      ]
     },
     "execution_count": 43,
     "metadata": {},
     "output_type": "execute_result"
    }
   ],
   "source": []
  },
  {
   "cell_type": "code",
   "execution_count": 44,
   "id": "81a196ab-cbf6-40a5-818f-ebcfe7dc584f",
   "metadata": {},
   "outputs": [],
   "source": [
    "spark=spark_session.sparkContext"
   ]
  },
  {
   "cell_type": "code",
   "execution_count": 52,
   "id": "9d3c803d-7a09-40f3-aeb7-9207720f4ac9",
   "metadata": {},
   "outputs": [],
   "source": [
    "import os\n",
    "os.makedirs(\"avnish/testing\",exist_ok=True)"
   ]
  },
  {
   "cell_type": "code",
   "execution_count": null,
   "id": "8ada6bf1-6dae-4716-8f82-000f6881c868",
   "metadata": {},
   "outputs": [],
   "source": []
  },
  {
   "cell_type": "code",
   "execution_count": 55,
   "id": "adb5793f-8d9b-4e0e-ac82-29cac1200931",
   "metadata": {},
   "outputs": [
    {
     "name": "stderr",
     "output_type": "stream",
     "text": [
      "22/09/10 12:51:44 WARN MemoryStore: Not enough space to cache broadcast_250 in memory! (computed 484.0 MiB so far)\n",
      "22/09/10 12:51:44 WARN BlockManager: Persisting block broadcast_250 to disk instead.\n",
      "22/09/10 12:51:45 WARN MemoryStore: Not enough space to cache broadcast_250 in memory! (computed 452.3 MiB so far)\n",
      "22/09/10 12:52:12 WARN MemoryStore: Not enough space to cache broadcast_269 in memory! (computed 484.0 MiB so far)\n",
      "22/09/10 12:52:12 WARN BlockManager: Persisting block broadcast_269 to disk instead.\n",
      "22/09/10 12:52:13 WARN MemoryStore: Not enough space to cache broadcast_269 in memory! (computed 452.3 MiB so far)\n",
      "22/09/10 12:52:16 WARN TaskMemoryManager: Failed to allocate a page (2097152 bytes), try again.\n",
      "22/09/10 12:52:16 WARN TaskMemoryManager: Failed to allocate a page (2097152 bytes), try again.\n",
      "22/09/10 12:52:17 WARN TaskMemoryManager: Failed to allocate a page (2097152 bytes), try again.\n",
      "                                                                                \r"
     ]
    }
   ],
   "source": [
    "spark_session.conf.set(SparkDatasetConverter.PARENT_CACHE_DIR_URL_CONF, \"file:///home/avnish/iNeuron_Private_Intelligence_Limited/industry_ready_project/finance_complaint/avnish/testing\")\n",
    "\n",
    "converter_train = make_spark_converter(train_df)\n",
    "converter_val = make_spark_converter(test_df)"
   ]
  },
  {
   "cell_type": "code",
   "execution_count": 58,
   "id": "118c821e-6b69-4ae6-945f-a0400503ff3a",
   "metadata": {},
   "outputs": [],
   "source": [
    "BATCH_SIZE=32"
   ]
  },
  {
   "cell_type": "code",
   "execution_count": 62,
   "id": "6d854ba3-92d3-4e92-940e-105366165550",
   "metadata": {},
   "outputs": [
    {
     "name": "stdout",
     "output_type": "stream",
     "text": [
      "{'scaled_input_features': tensor([[2.3244e+00, 0.0000e+00, 0.0000e+00, 0.0000e+00, 0.0000e+00, 0.0000e+00,\n",
      "         2.0505e+00, 0.0000e+00, 0.0000e+00, 0.0000e+00, 2.1462e+00, 0.0000e+00,\n",
      "         0.0000e+00, 0.0000e+00, 0.0000e+00, 6.0885e+00, 8.7081e-05, 7.2632e-02,\n",
      "         1.6472e-02, 1.6145e+00, 2.9403e-01, 0.0000e+00],\n",
      "        [2.3244e+00, 0.0000e+00, 0.0000e+00, 0.0000e+00, 0.0000e+00, 0.0000e+00,\n",
      "         2.0505e+00, 0.0000e+00, 0.0000e+00, 0.0000e+00, 2.1462e+00, 0.0000e+00,\n",
      "         0.0000e+00, 0.0000e+00, 0.0000e+00, 6.0885e+00, 1.3062e-04, 7.2632e-02,\n",
      "         1.6472e-02, 1.4232e+00, 1.4127e-01, 0.0000e+00],\n",
      "        [2.3244e+00, 0.0000e+00, 0.0000e+00, 0.0000e+00, 0.0000e+00, 0.0000e+00,\n",
      "         2.0505e+00, 0.0000e+00, 0.0000e+00, 0.0000e+00, 2.1462e+00, 0.0000e+00,\n",
      "         0.0000e+00, 0.0000e+00, 0.0000e+00, 6.0885e+00, 1.3062e-04, 4.2548e-01,\n",
      "         5.0538e-01, 2.1938e-01, 5.7492e-02, 0.0000e+00],\n",
      "        [2.3244e+00, 0.0000e+00, 0.0000e+00, 0.0000e+00, 0.0000e+00, 0.0000e+00,\n",
      "         2.0505e+00, 0.0000e+00, 0.0000e+00, 0.0000e+00, 2.1462e+00, 0.0000e+00,\n",
      "         0.0000e+00, 0.0000e+00, 0.0000e+00, 6.0885e+00, 2.1770e-04, 4.2548e-01,\n",
      "         5.0538e-01, 3.1497e+00, 4.2709e-02, 0.0000e+00],\n",
      "        [2.3244e+00, 0.0000e+00, 0.0000e+00, 0.0000e+00, 0.0000e+00, 0.0000e+00,\n",
      "         2.0505e+00, 0.0000e+00, 0.0000e+00, 0.0000e+00, 2.1462e+00, 0.0000e+00,\n",
      "         0.0000e+00, 0.0000e+00, 0.0000e+00, 6.0885e+00, 2.6124e-04, 2.2637e-01,\n",
      "         5.0538e-01, 3.1497e+00, 1.1334e-01, 0.0000e+00],\n",
      "        [2.3244e+00, 0.0000e+00, 0.0000e+00, 0.0000e+00, 0.0000e+00, 0.0000e+00,\n",
      "         2.0505e+00, 0.0000e+00, 0.0000e+00, 0.0000e+00, 2.1462e+00, 0.0000e+00,\n",
      "         0.0000e+00, 0.0000e+00, 0.0000e+00, 6.0885e+00, 2.6124e-04, 4.2548e-01,\n",
      "         5.0538e-01, 2.1938e-01, 4.9279e-03, 0.0000e+00],\n",
      "        [2.3244e+00, 0.0000e+00, 0.0000e+00, 0.0000e+00, 0.0000e+00, 0.0000e+00,\n",
      "         2.0505e+00, 0.0000e+00, 0.0000e+00, 0.0000e+00, 2.1462e+00, 0.0000e+00,\n",
      "         0.0000e+00, 0.0000e+00, 0.0000e+00, 6.0885e+00, 2.6124e-04, 4.2548e-01,\n",
      "         5.0538e-01, 1.6145e+00, 3.5317e-01, 0.0000e+00],\n",
      "        [2.3244e+00, 0.0000e+00, 0.0000e+00, 0.0000e+00, 0.0000e+00, 0.0000e+00,\n",
      "         2.0505e+00, 0.0000e+00, 0.0000e+00, 0.0000e+00, 2.1462e+00, 0.0000e+00,\n",
      "         0.0000e+00, 0.0000e+00, 0.0000e+00, 6.0885e+00, 2.6124e-04, 4.2548e-01,\n",
      "         5.0538e-01, 3.1497e+00, 1.9219e-01, 0.0000e+00],\n",
      "        [2.3244e+00, 0.0000e+00, 0.0000e+00, 0.0000e+00, 0.0000e+00, 0.0000e+00,\n",
      "         2.0505e+00, 0.0000e+00, 0.0000e+00, 0.0000e+00, 2.1462e+00, 0.0000e+00,\n",
      "         0.0000e+00, 0.0000e+00, 0.0000e+00, 6.0885e+00, 4.3541e-04, 1.5939e-02,\n",
      "         5.0538e-01, 1.4232e+00, 8.5417e-01, 0.0000e+00],\n",
      "        [2.3244e+00, 0.0000e+00, 0.0000e+00, 0.0000e+00, 0.0000e+00, 0.0000e+00,\n",
      "         2.0505e+00, 0.0000e+00, 0.0000e+00, 0.0000e+00, 2.1462e+00, 0.0000e+00,\n",
      "         0.0000e+00, 0.0000e+00, 0.0000e+00, 6.0885e+00, 6.0957e-04, 2.1021e-01,\n",
      "         5.0538e-01, 9.8337e-01, 1.3305e-01, 0.0000e+00],\n",
      "        [2.3244e+00, 0.0000e+00, 0.0000e+00, 0.0000e+00, 0.0000e+00, 0.0000e+00,\n",
      "         2.0505e+00, 0.0000e+00, 0.0000e+00, 0.0000e+00, 2.1462e+00, 0.0000e+00,\n",
      "         0.0000e+00, 0.0000e+00, 0.0000e+00, 6.0885e+00, 6.5311e-04, 2.1021e-01,\n",
      "         5.0538e-01, 1.9958e+00, 4.5830e-01, 0.0000e+00],\n",
      "        [2.3244e+00, 0.0000e+00, 0.0000e+00, 0.0000e+00, 0.0000e+00, 0.0000e+00,\n",
      "         2.0505e+00, 0.0000e+00, 0.0000e+00, 0.0000e+00, 2.1462e+00, 0.0000e+00,\n",
      "         0.0000e+00, 0.0000e+00, 0.0000e+00, 6.0885e+00, 6.5311e-04, 4.2548e-01,\n",
      "         5.0538e-01, 1.9958e+00, 5.2400e-01, 0.0000e+00],\n",
      "        [2.3244e+00, 0.0000e+00, 0.0000e+00, 0.0000e+00, 0.0000e+00, 0.0000e+00,\n",
      "         2.0505e+00, 0.0000e+00, 0.0000e+00, 0.0000e+00, 2.1462e+00, 0.0000e+00,\n",
      "         0.0000e+00, 0.0000e+00, 0.0000e+00, 6.0885e+00, 8.7081e-04, 9.1792e-02,\n",
      "         5.0538e-01, 1.9958e+00, 2.4640e-01, 0.0000e+00],\n",
      "        [2.3244e+00, 0.0000e+00, 0.0000e+00, 0.0000e+00, 0.0000e+00, 0.0000e+00,\n",
      "         2.0505e+00, 0.0000e+00, 0.0000e+00, 0.0000e+00, 2.1462e+00, 0.0000e+00,\n",
      "         0.0000e+00, 0.0000e+00, 0.0000e+00, 6.0885e+00, 8.7081e-04, 2.1021e-01,\n",
      "         5.0538e-01, 2.7458e-01, 1.2320e-01, 0.0000e+00],\n",
      "        [2.3244e+00, 0.0000e+00, 0.0000e+00, 0.0000e+00, 0.0000e+00, 0.0000e+00,\n",
      "         2.0505e+00, 0.0000e+00, 0.0000e+00, 0.0000e+00, 2.1462e+00, 0.0000e+00,\n",
      "         0.0000e+00, 0.0000e+00, 0.0000e+00, 6.0885e+00, 8.7081e-04, 2.1021e-01,\n",
      "         5.0538e-01, 2.7458e-01, 1.2320e-01, 0.0000e+00],\n",
      "        [2.3244e+00, 0.0000e+00, 0.0000e+00, 0.0000e+00, 0.0000e+00, 0.0000e+00,\n",
      "         2.0505e+00, 0.0000e+00, 0.0000e+00, 0.0000e+00, 2.1462e+00, 0.0000e+00,\n",
      "         0.0000e+00, 0.0000e+00, 0.0000e+00, 6.0885e+00, 8.7081e-04, 2.1021e-01,\n",
      "         5.0538e-01, 5.1913e-01, 9.8558e-03, 0.0000e+00],\n",
      "        [2.3244e+00, 0.0000e+00, 0.0000e+00, 0.0000e+00, 0.0000e+00, 0.0000e+00,\n",
      "         2.0505e+00, 0.0000e+00, 0.0000e+00, 0.0000e+00, 2.1462e+00, 0.0000e+00,\n",
      "         0.0000e+00, 0.0000e+00, 0.0000e+00, 6.0885e+00, 8.7081e-04, 4.2548e-01,\n",
      "         5.0538e-01, 1.6145e+00, 7.5561e-02, 0.0000e+00],\n",
      "        [2.3244e+00, 0.0000e+00, 0.0000e+00, 0.0000e+00, 0.0000e+00, 0.0000e+00,\n",
      "         2.0505e+00, 0.0000e+00, 0.0000e+00, 0.0000e+00, 2.1462e+00, 0.0000e+00,\n",
      "         0.0000e+00, 0.0000e+00, 0.0000e+00, 6.0885e+00, 8.7081e-04, 4.2548e-01,\n",
      "         5.0538e-01, 1.9958e+00, 6.5706e-03, 0.0000e+00],\n",
      "        [2.3244e+00, 0.0000e+00, 0.0000e+00, 0.0000e+00, 0.0000e+00, 0.0000e+00,\n",
      "         2.0505e+00, 0.0000e+00, 0.0000e+00, 0.0000e+00, 2.1462e+00, 0.0000e+00,\n",
      "         0.0000e+00, 0.0000e+00, 0.0000e+00, 6.0885e+00, 1.0885e-03, 4.2548e-01,\n",
      "         5.0538e-01, 1.0044e-01, 2.9568e-02, 0.0000e+00],\n",
      "        [2.3244e+00, 0.0000e+00, 0.0000e+00, 0.0000e+00, 0.0000e+00, 0.0000e+00,\n",
      "         2.0505e+00, 0.0000e+00, 0.0000e+00, 0.0000e+00, 2.1462e+00, 0.0000e+00,\n",
      "         0.0000e+00, 0.0000e+00, 0.0000e+00, 6.0885e+00, 1.0885e-03, 4.2548e-01,\n",
      "         5.0538e-01, 1.6145e+00, 2.8910e-01, 0.0000e+00],\n",
      "        [2.3244e+00, 0.0000e+00, 0.0000e+00, 0.0000e+00, 0.0000e+00, 0.0000e+00,\n",
      "         2.0505e+00, 0.0000e+00, 0.0000e+00, 0.0000e+00, 2.1462e+00, 0.0000e+00,\n",
      "         0.0000e+00, 0.0000e+00, 0.0000e+00, 6.0885e+00, 1.1756e-03, 4.2548e-01,\n",
      "         5.0538e-01, 3.3004e-02, 5.9135e-02, 0.0000e+00],\n",
      "        [2.3244e+00, 0.0000e+00, 0.0000e+00, 0.0000e+00, 0.0000e+00, 0.0000e+00,\n",
      "         2.0505e+00, 0.0000e+00, 0.0000e+00, 0.0000e+00, 2.1462e+00, 0.0000e+00,\n",
      "         0.0000e+00, 0.0000e+00, 0.0000e+00, 6.0885e+00, 1.2627e-03, 9.1792e-02,\n",
      "         5.0538e-01, 8.2749e-01, 3.9916e-01, 0.0000e+00],\n",
      "        [2.3244e+00, 0.0000e+00, 0.0000e+00, 0.0000e+00, 0.0000e+00, 0.0000e+00,\n",
      "         2.0505e+00, 0.0000e+00, 0.0000e+00, 0.0000e+00, 2.1462e+00, 0.0000e+00,\n",
      "         0.0000e+00, 0.0000e+00, 0.0000e+00, 6.0885e+00, 1.2627e-03, 9.1792e-02,\n",
      "         5.0538e-01, 1.6145e+00, 6.9812e-01, 0.0000e+00],\n",
      "        [2.3244e+00, 0.0000e+00, 0.0000e+00, 0.0000e+00, 0.0000e+00, 0.0000e+00,\n",
      "         2.0505e+00, 0.0000e+00, 0.0000e+00, 0.0000e+00, 2.1462e+00, 0.0000e+00,\n",
      "         0.0000e+00, 0.0000e+00, 0.0000e+00, 6.0885e+00, 1.2627e-03, 2.1021e-01,\n",
      "         5.0538e-01, 2.4542e-01, 1.6426e-01, 0.0000e+00],\n",
      "        [2.3244e+00, 0.0000e+00, 0.0000e+00, 0.0000e+00, 0.0000e+00, 0.0000e+00,\n",
      "         2.0505e+00, 0.0000e+00, 0.0000e+00, 0.0000e+00, 2.1462e+00, 0.0000e+00,\n",
      "         0.0000e+00, 0.0000e+00, 0.0000e+00, 6.0885e+00, 1.2627e-03, 2.1021e-01,\n",
      "         5.0538e-01, 7.4680e-01, 7.8847e-02, 0.0000e+00],\n",
      "        [2.3244e+00, 0.0000e+00, 0.0000e+00, 0.0000e+00, 0.0000e+00, 0.0000e+00,\n",
      "         2.0505e+00, 0.0000e+00, 0.0000e+00, 0.0000e+00, 2.1462e+00, 0.0000e+00,\n",
      "         0.0000e+00, 0.0000e+00, 0.0000e+00, 6.0885e+00, 1.2627e-03, 2.1021e-01,\n",
      "         5.0538e-01, 7.6442e-01, 1.5769e-01, 0.0000e+00],\n",
      "        [2.3244e+00, 0.0000e+00, 0.0000e+00, 0.0000e+00, 0.0000e+00, 0.0000e+00,\n",
      "         2.0505e+00, 0.0000e+00, 0.0000e+00, 0.0000e+00, 2.1462e+00, 0.0000e+00,\n",
      "         0.0000e+00, 0.0000e+00, 0.0000e+00, 6.0885e+00, 1.2627e-03, 2.1021e-01,\n",
      "         5.0538e-01, 9.8337e-01, 8.7553e-01, 0.0000e+00],\n",
      "        [2.3244e+00, 0.0000e+00, 0.0000e+00, 0.0000e+00, 0.0000e+00, 0.0000e+00,\n",
      "         2.0505e+00, 0.0000e+00, 0.0000e+00, 0.0000e+00, 2.1462e+00, 0.0000e+00,\n",
      "         0.0000e+00, 0.0000e+00, 0.0000e+00, 6.0885e+00, 1.2627e-03, 2.1021e-01,\n",
      "         5.0538e-01, 1.6145e+00, 3.9423e-02, 0.0000e+00],\n",
      "        [2.3244e+00, 0.0000e+00, 0.0000e+00, 0.0000e+00, 0.0000e+00, 0.0000e+00,\n",
      "         2.0505e+00, 0.0000e+00, 0.0000e+00, 0.0000e+00, 2.1462e+00, 0.0000e+00,\n",
      "         0.0000e+00, 0.0000e+00, 0.0000e+00, 6.0885e+00, 1.2627e-03, 2.1021e-01,\n",
      "         5.0538e-01, 1.6145e+00, 3.9259e-01, 0.0000e+00],\n",
      "        [2.3244e+00, 0.0000e+00, 0.0000e+00, 0.0000e+00, 0.0000e+00, 0.0000e+00,\n",
      "         2.0505e+00, 0.0000e+00, 0.0000e+00, 0.0000e+00, 2.1462e+00, 0.0000e+00,\n",
      "         0.0000e+00, 0.0000e+00, 0.0000e+00, 6.0885e+00, 1.2627e-03, 4.2548e-01,\n",
      "         5.0538e-01, 1.4232e+00, 2.1847e-01, 0.0000e+00],\n",
      "        [2.3244e+00, 0.0000e+00, 0.0000e+00, 0.0000e+00, 0.0000e+00, 0.0000e+00,\n",
      "         2.0505e+00, 0.0000e+00, 0.0000e+00, 0.0000e+00, 2.1462e+00, 0.0000e+00,\n",
      "         0.0000e+00, 0.0000e+00, 0.0000e+00, 6.0885e+00, 1.3933e-03, 2.1021e-01,\n",
      "         5.0538e-01, 2.7458e-01, 2.4640e-01, 0.0000e+00],\n",
      "        [2.3244e+00, 0.0000e+00, 0.0000e+00, 0.0000e+00, 0.0000e+00, 0.0000e+00,\n",
      "         2.0505e+00, 0.0000e+00, 0.0000e+00, 0.0000e+00, 2.1462e+00, 0.0000e+00,\n",
      "         0.0000e+00, 0.0000e+00, 0.0000e+00, 6.0885e+00, 1.6981e-03, 2.2637e-01,\n",
      "         5.0538e-01, 7.6442e-01, 2.2668e-01, 0.0000e+00]]), 'consumer_disputed': tensor([1, 0, 0, 0, 0, 0, 0, 0, 0, 0, 0, 0, 0, 0, 0, 0, 1, 1, 0, 0, 0, 0, 0, 0,\n",
      "        0, 0, 0, 0, 0, 1, 1, 0], dtype=torch.int32)}\n"
     ]
    }
   ],
   "source": [
    "with converter_train.make_torch_dataloader(batch_size=BATCH_SIZE) as train_data_loader,\\\n",
    "converter_val.make_torch_dataloader() as test_data_loader:\n",
    "    train_dataloader_iter = iter(train_data_loader)\n",
    "    steps_per_epoch = len(converter_train) // BATCH_SIZE\n",
    "    \n",
    "    val_dataloader_iter = iter(test_data_loader)\n",
    "    \n",
    "    print(next(train_dataloader_iter))\n",
    "    "
   ]
  },
  {
   "cell_type": "code",
   "execution_count": null,
   "id": "2a9ff23e-0c78-4d3c-88ff-d3fdfb15ad5a",
   "metadata": {},
   "outputs": [],
   "source": [
    "train_data_loader"
   ]
  }
 ],
 "metadata": {
  "kernelspec": {
   "display_name": "Python 3 (ipykernel)",
   "language": "python",
   "name": "python3"
  },
  "language_info": {
   "codemirror_mode": {
    "name": "ipython",
    "version": 3
   },
   "file_extension": ".py",
   "mimetype": "text/x-python",
   "name": "python",
   "nbconvert_exporter": "python",
   "pygments_lexer": "ipython3",
   "version": "3.8.0"
  }
 },
 "nbformat": 4,
 "nbformat_minor": 5
}
