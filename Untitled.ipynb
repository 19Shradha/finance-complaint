{
 "cells": [
  {
   "cell_type": "code",
   "execution_count": 1,
   "metadata": {},
   "outputs": [],
   "source": [
    "from pyspark.sql import SparkSession"
   ]
  },
  {
   "cell_type": "code",
   "execution_count": 2,
   "id": "db75b4d3",
   "metadata": {},
   "outputs": [
    {
     "name": "stderr",
     "output_type": "stream",
     "text": [
      "22/09/03 16:14:11 WARN Utils: Your hostname, avnish-yadav resolves to a loopback address: 127.0.1.1; using 192.168.1.42 instead (on interface wlo1)\n",
      "22/09/03 16:14:11 WARN Utils: Set SPARK_LOCAL_IP if you need to bind to another address\n",
      "Using Spark's default log4j profile: org/apache/spark/log4j-defaults.properties\n",
      "Setting default log level to \"WARN\".\n",
      "To adjust logging level use sc.setLogLevel(newLevel). For SparkR, use setLogLevel(newLevel).\n",
      "22/09/03 16:14:12 WARN NativeCodeLoader: Unable to load native-hadoop library for your platform... using builtin-java classes where applicable\n"
     ]
    }
   ],
   "source": [
    "spark=SparkSession.builder.getOrCreate()"
   ]
  },
  {
   "cell_type": "code",
   "execution_count": 3,
   "id": "d045fe86",
   "metadata": {},
   "outputs": [],
   "source": [
    "import pandas as pd"
   ]
  },
  {
   "cell_type": "code",
   "execution_count": 8,
   "id": "4184276b",
   "metadata": {},
   "outputs": [
    {
     "data": {
      "text/plain": [
       "['2011-12-31',\n",
       " '2012-01-31',\n",
       " '2012-02-29',\n",
       " '2012-03-31',\n",
       " '2012-04-30',\n",
       " '2012-05-31',\n",
       " '2012-06-30',\n",
       " '2012-07-31',\n",
       " '2012-08-31',\n",
       " '2012-09-30',\n",
       " '2012-10-31',\n",
       " '2012-11-30',\n",
       " '2012-12-31',\n",
       " '2013-01-31',\n",
       " '2013-02-28',\n",
       " '2013-03-31',\n",
       " '2013-04-30',\n",
       " '2013-05-31',\n",
       " '2013-06-30',\n",
       " '2013-07-31',\n",
       " '2013-08-31',\n",
       " '2013-09-30',\n",
       " '2013-10-31',\n",
       " '2013-11-30',\n",
       " '2013-12-31',\n",
       " '2014-01-31',\n",
       " '2014-02-28',\n",
       " '2014-03-31',\n",
       " '2014-04-30',\n",
       " '2014-05-31',\n",
       " '2014-06-30',\n",
       " '2014-07-31',\n",
       " '2014-08-31',\n",
       " '2014-09-30',\n",
       " '2014-10-31',\n",
       " '2014-11-30',\n",
       " '2014-12-31',\n",
       " '2015-01-31',\n",
       " '2015-02-28',\n",
       " '2015-03-31',\n",
       " '2015-04-30',\n",
       " '2015-05-31',\n",
       " '2015-06-30',\n",
       " '2015-07-31',\n",
       " '2015-08-31',\n",
       " '2015-09-30',\n",
       " '2015-10-31',\n",
       " '2015-11-30']"
      ]
     },
     "execution_count": 8,
     "metadata": {},
     "output_type": "execute_result"
    }
   ],
   "source": []
  },
  {
   "cell_type": "code",
   "execution_count": 9,
   "id": "21e634b4",
   "metadata": {},
   "outputs": [
    {
     "ename": "NameError",
     "evalue": "name 'self' is not defined",
     "output_type": "error",
     "traceback": [
      "\u001b[0;31m---------------------------------------------------------------------------\u001b[0m",
      "\u001b[0;31mNameError\u001b[0m                                 Traceback (most recent call last)",
      "\u001b[0;32m/tmp/ipykernel_35512/382164456.py\u001b[0m in \u001b[0;36m<module>\u001b[0;34m\u001b[0m\n\u001b[0;32m----> 1\u001b[0;31m \u001b[0mnext\u001b[0m\u001b[0;34m(\u001b[0m\u001b[0mpd\u001b[0m\u001b[0;34m.\u001b[0m\u001b[0mdate_range\u001b[0m\u001b[0;34m(\u001b[0m\u001b[0mstart\u001b[0m\u001b[0;34m=\u001b[0m\u001b[0mself\u001b[0m\u001b[0;34m.\u001b[0m\u001b[0mfromDate\u001b[0m\u001b[0;34m,\u001b[0m\u001b[0mend\u001b[0m\u001b[0;34m=\u001b[0m\u001b[0mself\u001b[0m\u001b[0;34m.\u001b[0m\u001b[0mtoDate\u001b[0m\u001b[0;34m,\u001b[0m\u001b[0mfreq\u001b[0m\u001b[0;34m=\u001b[0m\u001b[0;34m\"m\"\u001b[0m\u001b[0;34m)\u001b[0m\u001b[0;34m.\u001b[0m\u001b[0mastype\u001b[0m\u001b[0;34m(\u001b[0m\u001b[0;34m'str'\u001b[0m\u001b[0;34m)\u001b[0m\u001b[0;34m)\u001b[0m\u001b[0;34m\u001b[0m\u001b[0m\n\u001b[0m",
      "\u001b[0;31mNameError\u001b[0m: name 'self' is not defined"
     ]
    }
   ],
   "source": [
    "next(pd.date_range(start=self.fromDate,end=self.toDate,freq=\"m\").astype('str'))"
   ]
  },
  {
   "cell_type": "code",
   "execution_count": null,
   "id": "a09892c5",
   "metadata": {},
   "outputs": [],
   "source": []
  }
 ],
 "metadata": {
  "kernelspec": {
   "display_name": "Python 3.7.0 (conda)",
   "language": "python",
   "name": "python3"
  },
  "language_info": {
   "codemirror_mode": {
    "name": "ipython",
    "version": 3
   },
   "file_extension": ".py",
   "mimetype": "text/x-python",
   "name": "python",
   "nbconvert_exporter": "python",
   "pygments_lexer": "ipython3",
   "version": "3.7.0"
  },
  "vscode": {
   "interpreter": {
    "hash": "9d89f92f8913a0e42f3506a5acc240e7aa050bec41757e3841c94db674fb7a79"
   }
  }
 },
 "nbformat": 4,
 "nbformat_minor": 5
}
