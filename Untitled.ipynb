{
 "cells": [
  {
   "cell_type": "code",
   "execution_count": 1,
   "id": "85400238-c43f-40b7-8249-630df54b0b47",
   "metadata": {},
   "outputs": [],
   "source": [
    "data_dir = \"/home/avnish/iNeuron_Private_Intelligence_Limited/industry_ready_project/finance_complaint/finance_artifact/data_ingestion/20220903_214056/downloaded_dir\""
   ]
  },
  {
   "cell_type": "code",
   "execution_count": 5,
   "id": "c214fdd4",
   "metadata": {},
   "outputs": [],
   "source": [
    "from pyspark.sql import SparkSession"
   ]
  },
  {
   "cell_type": "code",
   "execution_count": 6,
   "id": "f2e0d823",
   "metadata": {},
   "outputs": [],
   "source": [
    "sparkSession  = SparkSession.builder.master(\"local[*]\").appName(\"finance-complaint\").getOrCreate()"
   ]
  },
  {
   "cell_type": "code",
   "execution_count": 1,
   "id": "265851a2",
   "metadata": {},
   "outputs": [],
   "source": [
    "import pandas as pd"
   ]
  },
  {
   "cell_type": "code",
   "execution_count": 2,
   "id": "73b02b83",
   "metadata": {},
   "outputs": [],
   "source": [
    "import os"
   ]
  },
  {
   "cell_type": "code",
   "execution_count": 5,
   "id": "f8d46425",
   "metadata": {},
   "outputs": [],
   "source": [
    "data=pd.DataFrame([1,1,1,2,3,4,5,5,6])"
   ]
  },
  {
   "cell_type": "code",
   "execution_count": 9,
   "id": "cfca2297",
   "metadata": {},
   "outputs": [],
   "source": [
    "data['cumsum']=data[[0]].cumsum()"
   ]
  },
  {
   "cell_type": "code",
   "execution_count": 10,
   "id": "ccc5b77a",
   "metadata": {},
   "outputs": [
    {
     "data": {
      "text/html": [
       "<div>\n",
       "<style scoped>\n",
       "    .dataframe tbody tr th:only-of-type {\n",
       "        vertical-align: middle;\n",
       "    }\n",
       "\n",
       "    .dataframe tbody tr th {\n",
       "        vertical-align: top;\n",
       "    }\n",
       "\n",
       "    .dataframe thead th {\n",
       "        text-align: right;\n",
       "    }\n",
       "</style>\n",
       "<table border=\"1\" class=\"dataframe\">\n",
       "  <thead>\n",
       "    <tr style=\"text-align: right;\">\n",
       "      <th></th>\n",
       "      <th>0</th>\n",
       "      <th>cumsum</th>\n",
       "    </tr>\n",
       "  </thead>\n",
       "  <tbody>\n",
       "    <tr>\n",
       "      <th>0</th>\n",
       "      <td>1</td>\n",
       "      <td>1</td>\n",
       "    </tr>\n",
       "    <tr>\n",
       "      <th>1</th>\n",
       "      <td>1</td>\n",
       "      <td>2</td>\n",
       "    </tr>\n",
       "    <tr>\n",
       "      <th>2</th>\n",
       "      <td>1</td>\n",
       "      <td>3</td>\n",
       "    </tr>\n",
       "    <tr>\n",
       "      <th>3</th>\n",
       "      <td>2</td>\n",
       "      <td>5</td>\n",
       "    </tr>\n",
       "    <tr>\n",
       "      <th>4</th>\n",
       "      <td>3</td>\n",
       "      <td>8</td>\n",
       "    </tr>\n",
       "    <tr>\n",
       "      <th>5</th>\n",
       "      <td>4</td>\n",
       "      <td>12</td>\n",
       "    </tr>\n",
       "    <tr>\n",
       "      <th>6</th>\n",
       "      <td>5</td>\n",
       "      <td>17</td>\n",
       "    </tr>\n",
       "    <tr>\n",
       "      <th>7</th>\n",
       "      <td>5</td>\n",
       "      <td>22</td>\n",
       "    </tr>\n",
       "    <tr>\n",
       "      <th>8</th>\n",
       "      <td>6</td>\n",
       "      <td>28</td>\n",
       "    </tr>\n",
       "  </tbody>\n",
       "</table>\n",
       "</div>"
      ],
      "text/plain": [
       "   0  cumsum\n",
       "0  1       1\n",
       "1  1       2\n",
       "2  1       3\n",
       "3  2       5\n",
       "4  3       8\n",
       "5  4      12\n",
       "6  5      17\n",
       "7  5      22\n",
       "8  6      28"
      ]
     },
     "execution_count": 10,
     "metadata": {},
     "output_type": "execute_result"
    }
   ],
   "source": [
    "data"
   ]
  },
  {
   "cell_type": "code",
   "execution_count": null,
   "id": "506d36d1-910e-432e-a2ef-4d801940535c",
   "metadata": {},
   "outputs": [],
   "source": []
  }
 ],
 "metadata": {
  "kernelspec": {
   "display_name": "Python 3 (ipykernel)",
   "language": "python",
   "name": "python3"
  },
  "language_info": {
   "codemirror_mode": {
    "name": "ipython",
    "version": 3
   },
   "file_extension": ".py",
   "mimetype": "text/x-python",
   "name": "python",
   "nbconvert_exporter": "python",
   "pygments_lexer": "ipython3",
   "version": "3.8.0"
  },
  "vscode": {
   "interpreter": {
    "hash": "dd81b26a3f4d6d1a433ea9248045dda92f23e31ca9220f7edefd5d65fdcec307"
   }
  }
 },
 "nbformat": 4,
 "nbformat_minor": 5
}
