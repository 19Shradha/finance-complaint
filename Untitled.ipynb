{
 "cells": [
  {
   "cell_type": "code",
   "execution_count": 2,
   "id": "ac6339dc-0439-4e03-bfdb-c24516e42c0a",
   "metadata": {},
   "outputs": [],
   "source": [
    "from finance_complaint.entity.estimator import S3Estimator"
   ]
  },
  {
   "cell_type": "code",
   "execution_count": 3,
   "id": "e49b06b5-d013-414d-b721-f06559f57fd8",
   "metadata": {},
   "outputs": [
    {
     "name": "stdout",
     "output_type": "stream",
     "text": [
      "Existing buckets:\n"
     ]
    }
   ],
   "source": [
    "s3=S3Estimator(bucket_name=\"finance-complaint\")"
   ]
  },
  {
   "cell_type": "code",
   "execution_count": 4,
   "id": "450f7e98-8b63-4038-b225-c97e58d47fa7",
   "metadata": {},
   "outputs": [
    {
     "data": {
      "text/plain": [
       "['model-registry/saved_models/1663960392/model.zip',\n",
       " 'model-registry/saved_models/1664010613/model.zip']"
      ]
     },
     "execution_count": 4,
     "metadata": {},
     "output_type": "execute_result"
    }
   ],
   "source": [
    "s3.get_all_model_path(s3_key=\"model-registry\")"
   ]
  },
  {
   "cell_type": "code",
   "execution_count": 6,
   "id": "de605a38-2953-45f1-ac34-b1b9eecd60eb",
   "metadata": {},
   "outputs": [
    {
     "data": {
      "text/plain": [
       "'model-registry/saved_models/1664010613/model.zip'"
      ]
     },
     "execution_count": 6,
     "metadata": {},
     "output_type": "execute_result"
    }
   ],
   "source": [
    "s3.get_latest_model_path(s3_key=\"model-registry\")"
   ]
  },
  {
   "cell_type": "code",
   "execution_count": 7,
   "id": "2706581a-6ef9-46e1-8f8f-c050019bb51a",
   "metadata": {},
   "outputs": [],
   "source": [
    "s3.transform(None)"
   ]
  },
  {
   "cell_type": "code",
   "execution_count": 1,
   "id": "87afe9ef-de61-404e-a4c0-a6e4038024d9",
   "metadata": {},
   "outputs": [],
   "source": [
    "fp=\"/home/avnish/iNeuron_Private_Intelligence_Limited/industry_ready_project/finance_complaint/prediction_files/file_20220924_182717\""
   ]
  },
  {
   "cell_type": "code",
   "execution_count": 3,
   "id": "24e8e868-162e-4c56-bd59-ce8a4c8181f3",
   "metadata": {},
   "outputs": [],
   "source": [
    "from finance_complaint.config.spark_manager import spark_session"
   ]
  },
  {
   "cell_type": "code",
   "execution_count": 4,
   "id": "cc8e3d34-8d8e-4258-9144-8c4d4a69ad02",
   "metadata": {},
   "outputs": [],
   "source": [
    "df=spark_session.read.parquet(fp)"
   ]
  },
  {
   "cell_type": "code",
   "execution_count": 5,
   "id": "fb3a336b-40fc-4b19-8edd-69ca5e91f557",
   "metadata": {},
   "outputs": [
    {
     "data": {
      "text/plain": [
       "2963652"
      ]
     },
     "execution_count": 5,
     "metadata": {},
     "output_type": "execute_result"
    }
   ],
   "source": [
    "df.count()"
   ]
  },
  {
   "cell_type": "code",
   "execution_count": 8,
   "id": "ef236e36-b84f-4b60-8500-40a50449bb11",
   "metadata": {},
   "outputs": [
    {
     "name": "stdout",
     "output_type": "stream",
     "text": [
      "+-----------------+----------------------------+\n",
      "|consumer_disputed|prediction_consumer_disputed|\n",
      "+-----------------+----------------------------+\n",
      "|              N/A|                         N/A|\n",
      "|              N/A|                         N/A|\n",
      "|              N/A|                         N/A|\n",
      "|              N/A|                         N/A|\n",
      "|              N/A|                         N/A|\n",
      "|              N/A|                         N/A|\n",
      "|              N/A|                         N/A|\n",
      "|              N/A|                         N/A|\n",
      "|              N/A|                         N/A|\n",
      "|              N/A|                         N/A|\n",
      "|              N/A|                         N/A|\n",
      "|              N/A|                         N/A|\n",
      "|              N/A|                         N/A|\n",
      "|              N/A|                         N/A|\n",
      "|              N/A|                         N/A|\n",
      "|              N/A|                         N/A|\n",
      "|              N/A|                         N/A|\n",
      "|              N/A|                         N/A|\n",
      "|              N/A|                         N/A|\n",
      "|              N/A|                         N/A|\n",
      "+-----------------+----------------------------+\n",
      "only showing top 20 rows\n",
      "\n"
     ]
    }
   ],
   "source": [
    "df[['consumer_disputed' , 'prediction_consumer_disputed']].show()"
   ]
  },
  {
   "cell_type": "code",
   "execution_count": 12,
   "id": "a12e4d27-2546-49c4-9368-e4be42864a09",
   "metadata": {},
   "outputs": [],
   "source": [
    "y=df.select('consumer_disputed')\n",
    "yhat= df.select('prediction_consumer_disputed')"
   ]
  },
  {
   "cell_type": "code",
   "execution_count": 16,
   "id": "bcd862f0-fea9-4238-b755-cd60f7e19bab",
   "metadata": {},
   "outputs": [],
   "source": [
    "from pyspark.sql.functions import col"
   ]
  },
  {
   "cell_type": "code",
   "execution_count": null,
   "id": "d0354edb-2a3e-4ce1-a904-4351133cdbca",
   "metadata": {},
   "outputs": [
    {
     "name": "stderr",
     "output_type": "stream",
     "text": [
      "22/09/24 18:37:44 WARN TaskSetManager: Lost task 2.0 in stage 7.0 (TID 22) (mongoexpress.com executor driver): TaskKilled (Stage cancelled)\n",
      "22/09/24 18:37:47 WARN TaskSetManager: Lost task 4.0 in stage 7.0 (TID 24) (mongoexpress.com executor driver): TaskKilled (Stage cancelled)\n",
      "[Stage 7:>                                                          (0 + 6) / 8]\r"
     ]
    }
   ],
   "source": [
    "total_row = df.count()"
   ]
  },
  {
   "cell_type": "code",
   "execution_count": null,
   "id": "95fcba52-e540-46d7-b1b8-0701026ae1e8",
   "metadata": {},
   "outputs": [
    {
     "name": "stderr",
     "output_type": "stream",
     "text": [
      "22/09/24 18:39:13 WARN TaskSetManager: Lost task 7.0 in stage 7.0 (TID 27) (mongoexpress.com executor driver): TaskKilled (Stage cancelled)\n",
      "22/09/24 18:39:22 WARN TaskSetManager: Lost task 3.0 in stage 7.0 (TID 23) (mongoexpress.com executor driver): TaskKilled (Stage cancelled)\n",
      "22/09/24 18:39:24 WARN TaskSetManager: Lost task 6.0 in stage 7.0 (TID 26) (mongoexpress.com executor driver): TaskKilled (Stage cancelled)\n",
      "22/09/24 18:39:25 WARN TaskSetManager: Lost task 5.0 in stage 7.0 (TID 25) (mongoexpress.com executor driver): TaskKilled (Stage cancelled)\n",
      "22/09/24 18:39:25 WARN TaskSetManager: Lost task 1.0 in stage 7.0 (TID 21) (mongoexpress.com executor driver): TaskKilled (Stage cancelled)\n",
      "22/09/24 18:39:27 WARN TaskSetManager: Lost task 0.0 in stage 7.0 (TID 20) (mongoexpress.com executor driver): TaskKilled (Stage cancelled)\n",
      "[Stage 9:>                                                          (0 + 8) / 8]\r"
     ]
    }
   ],
   "source": [
    "correct_row = y.join(yhat,on=y.consumer_disputed!=yhat.prediction_consumer_disputed).count()"
   ]
  },
  {
   "cell_type": "code",
   "execution_count": null,
   "id": "4494f635-69e4-4e8a-86f2-8f7d323e9737",
   "metadata": {},
   "outputs": [],
   "source": []
  },
  {
   "cell_type": "code",
   "execution_count": 11,
   "id": "201145c1-82fe-4e3d-8dd0-14f60bedf248",
   "metadata": {},
   "outputs": [
    {
     "data": {
      "text/plain": [
       "['consumer_disputed',\n",
       " 'company_response',\n",
       " 'consumer_consent_provided',\n",
       " 'submitted_via',\n",
       " 'issue',\n",
       " 'date_sent_to_company',\n",
       " 'date_received',\n",
       " 'prediction_consumer_disputed']"
      ]
     },
     "execution_count": 11,
     "metadata": {},
     "output_type": "execute_result"
    }
   ],
   "source": [
    "df.columns"
   ]
  },
  {
   "cell_type": "code",
   "execution_count": null,
   "id": "3dac0782-ab14-4dd5-bbcd-69e86fd89edd",
   "metadata": {},
   "outputs": [],
   "source": []
  }
 ],
 "metadata": {
  "kernelspec": {
   "display_name": "Python 3 (ipykernel)",
   "language": "python",
   "name": "python3"
  },
  "language_info": {
   "codemirror_mode": {
    "name": "ipython",
    "version": 3
   },
   "file_extension": ".py",
   "mimetype": "text/x-python",
   "name": "python",
   "nbconvert_exporter": "python",
   "pygments_lexer": "ipython3",
   "version": "3.8.0"
  }
 },
 "nbformat": 4,
 "nbformat_minor": 5
}
