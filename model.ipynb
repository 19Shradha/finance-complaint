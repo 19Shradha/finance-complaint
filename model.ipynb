{
 "cells": [
  {
   "cell_type": "code",
   "execution_count": 1,
   "id": "1c828af6-3d32-4deb-9fc9-7c37f2927a16",
   "metadata": {},
   "outputs": [],
   "source": [
    "from finance_complaint.config import FinanceConfig\n",
    "time_stamp=\"20220912_160641\"\n",
    "config = FinanceConfig(timestamp=time_stamp)"
   ]
  },
  {
   "cell_type": "code",
   "execution_count": 2,
   "id": "e7ae39b3-8116-4656-9b42-44c76b18cc56",
   "metadata": {},
   "outputs": [],
   "source": [
    "model_trainer_config = config.get_model_trainer_config()"
   ]
  },
  {
   "cell_type": "code",
   "execution_count": null,
   "id": "37e51b5c-56a5-451a-a45a-13515ddd04b8",
   "metadata": {},
   "outputs": [],
   "source": []
  },
  {
   "cell_type": "code",
   "execution_count": 3,
   "id": "33e05f86-f78c-4a25-be00-56aacd6c5c24",
   "metadata": {},
   "outputs": [],
   "source": [
    "from finance_complaint.entity.artifact_entity import DataTransformationArtifact"
   ]
  },
  {
   "cell_type": "code",
   "execution_count": 4,
   "id": "10751c86-a1ae-4917-af04-2550c21dbb8c",
   "metadata": {},
   "outputs": [],
   "source": [
    "data_tft_artifact = DataTransformationArtifact(transformed_data_file_path=\"/home/avnish/iNeuron_Private_Intelligence_Limited/industry_ready_project/finance_complaint/finance_artifact/data_transformation/20220912_160641/transformed_data/finance_complaint\",\n",
    "                                               exported_pipeline_file_path=\"/home/avnish/iNeuron_Private_Intelligence_Limited/industry_ready_project/finance_complaint/finance_artifact/data_transformation/20220912_160641/pipeline\")\n",
    "                                               "
   ]
  },
  {
   "cell_type": "code",
   "execution_count": 5,
   "id": "96ca57bf-107e-4f45-9fe6-963fef30c29f",
   "metadata": {},
   "outputs": [
    {
     "name": "stderr",
     "output_type": "stream",
     "text": [
      "22/09/12 18:50:30 WARN Utils: Your hostname, avnish-yadav resolves to a loopback address: 127.0.1.1; using 192.168.3.35 instead (on interface wlo1)\n",
      "22/09/12 18:50:30 WARN Utils: Set SPARK_LOCAL_IP if you need to bind to another address\n",
      "Using Spark's default log4j profile: org/apache/spark/log4j-defaults.properties\n",
      "Setting default log level to \"WARN\".\n",
      "To adjust logging level use sc.setLogLevel(newLevel). For SparkR, use setLogLevel(newLevel).\n",
      "22/09/12 18:50:31 WARN NativeCodeLoader: Unable to load native-hadoop library for your platform... using builtin-java classes where applicable\n",
      "/home/avnish/iNeuron_Private_Intelligence_Limited/industry_ready_project/env/venv/lib/python3.8/site-packages/petastorm/spark/spark_dataset_converter.py:28: FutureWarning: pyarrow.LocalFileSystem is deprecated as of 2.0.0, please use pyarrow.fs.LocalFileSystem instead.\n",
      "  from pyarrow import LocalFileSystem\n"
     ]
    }
   ],
   "source": [
    "from finance_complaint.component.model_trainer import ModelTrainer,col"
   ]
  },
  {
   "cell_type": "code",
   "execution_count": 6,
   "id": "851ef535-7b09-4097-9019-b3545d35d194",
   "metadata": {},
   "outputs": [],
   "source": [
    "model_trainer = ModelTrainer(data_transformation_artifact=data_tft_artifact,model_trainer_config = model_trainer_config)"
   ]
  },
  {
   "cell_type": "code",
   "execution_count": 7,
   "id": "be4ef81f-58fa-4ac5-b2b4-b2d90887f0ae",
   "metadata": {},
   "outputs": [
    {
     "name": "stderr",
     "output_type": "stream",
     "text": [
      "                                                                                \r"
     ]
    },
    {
     "name": "stdout",
     "output_type": "stream",
     "text": [
      "+-----------------+-----+\n",
      "|consumer_disputed|count|\n",
      "+-----------------+-----+\n",
      "|              1.0|74556|\n",
      "+-----------------+-----+\n",
      "\n"
     ]
    }
   ],
   "source": [
    "df = model_trainer.read_data()"
   ]
  },
  {
   "cell_type": "code",
   "execution_count": 25,
   "id": "2f9d52ad-bdd5-4bda-816c-bba01b6bf0c9",
   "metadata": {},
   "outputs": [
    {
     "data": {
      "text/plain": [
       "{'Yes': '1', 'No': '0'}"
      ]
     },
     "execution_count": 25,
     "metadata": {},
     "output_type": "execute_result"
    }
   ],
   "source": [
    "model_trainer.target_value_mapping"
   ]
  },
  {
   "cell_type": "code",
   "execution_count": 35,
   "id": "1cf1d448-8245-4fa7-b687-6e88bdd5979f",
   "metadata": {},
   "outputs": [
    {
     "name": "stderr",
     "output_type": "stream",
     "text": [
      "                                                                                \r"
     ]
    },
    {
     "data": {
      "text/plain": [
       "149404"
      ]
     },
     "execution_count": 35,
     "metadata": {},
     "output_type": "execute_result"
    }
   ],
   "source": [
    "df.filter(col(model_trainer.col_consumer_disputed)==1).count()"
   ]
  },
  {
   "cell_type": "code",
   "execution_count": 17,
   "id": "022e6fbd-e842-4bd0-9af9-ddaea9d72c75",
   "metadata": {},
   "outputs": [
    {
     "data": {
      "text/plain": [
       "774560"
      ]
     },
     "execution_count": 17,
     "metadata": {},
     "output_type": "execute_result"
    }
   ],
   "source": [
    "df.count()"
   ]
  },
  {
   "cell_type": "code",
   "execution_count": 27,
   "id": "74cb1bf5-1267-4c22-bc49-2ca0df3c729f",
   "metadata": {},
   "outputs": [],
   "source": [
    "_,df1 = df.filter(col(model_trainer.col_consumer_disputed)==0).randomSplit([1-0.19,0.19])"
   ]
  },
  {
   "cell_type": "code",
   "execution_count": 29,
   "id": "b034cdb4-5896-4a55-a54d-8fc30f54ffae",
   "metadata": {},
   "outputs": [
    {
     "name": "stderr",
     "output_type": "stream",
     "text": [
      "                                                                                \r"
     ]
    },
    {
     "data": {
      "text/plain": [
       "118610"
      ]
     },
     "execution_count": 29,
     "metadata": {},
     "output_type": "execute_result"
    }
   ],
   "source": [
    "df1.count()"
   ]
  },
  {
   "cell_type": "code",
   "execution_count": 31,
   "id": "51c3f544-a954-45a8-8b44-e6be75abc094",
   "metadata": {},
   "outputs": [],
   "source": [
    "df = df.union(df1)"
   ]
  },
  {
   "cell_type": "code",
   "execution_count": 34,
   "id": "5807d4af-ba23-414e-8695-f2ed0ba66bc5",
   "metadata": {},
   "outputs": [
    {
     "name": "stderr",
     "output_type": "stream",
     "text": [
      "[Stage 44:=================================================>        (6 + 1) / 7]\r"
     ]
    },
    {
     "name": "stdout",
     "output_type": "stream",
     "text": [
      "+-----------------+------+\n",
      "|consumer_disputed| count|\n",
      "+-----------------+------+\n",
      "|              0.0|118610|\n",
      "+-----------------+------+\n",
      "\n"
     ]
    },
    {
     "name": "stderr",
     "output_type": "stream",
     "text": [
      "                                                                                \r"
     ]
    }
   ],
   "source": [
    "df1.groupby(model_trainer.col_consumer_disputed).count().show()"
   ]
  },
  {
   "cell_type": "code",
   "execution_count": null,
   "id": "358eff63-ba99-4d18-b17e-31629d4f9bb4",
   "metadata": {},
   "outputs": [],
   "source": []
  }
 ],
 "metadata": {
  "kernelspec": {
   "display_name": "Python 3 (ipykernel)",
   "language": "python",
   "name": "python3"
  },
  "language_info": {
   "codemirror_mode": {
    "name": "ipython",
    "version": 3
   },
   "file_extension": ".py",
   "mimetype": "text/x-python",
   "name": "python",
   "nbconvert_exporter": "python",
   "pygments_lexer": "ipython3",
   "version": "3.8.0"
  }
 },
 "nbformat": 4,
 "nbformat_minor": 5
}
